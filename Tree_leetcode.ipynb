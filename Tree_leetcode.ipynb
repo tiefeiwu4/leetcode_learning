{
 "cells": [
  {
   "cell_type": "markdown",
   "id": "62a7012f",
   "metadata": {},
   "source": [
    "# 树的建立"
   ]
  },
  {
   "cell_type": "code",
   "execution_count": 1,
   "id": "0d6387ae",
   "metadata": {},
   "outputs": [],
   "source": [
    "class TreeNode:\n",
    "    def __init__(self,val:int):\n",
    "        self.val = val\n",
    "        self.left : TreeNode| None = None\n",
    "        self.right : TreeNode|None = None"
   ]
  },
  {
   "cell_type": "code",
   "execution_count": 2,
   "id": "ba15cac0",
   "metadata": {},
   "outputs": [],
   "source": [
    "# 初始化二叉树\n",
    "N1 = TreeNode(1)\n",
    "n2 = TreeNode(2)\n",
    "n3 = TreeNode(3)\n",
    "n4 = TreeNode(4)\n",
    "n5 = TreeNode(5)\n",
    "N1.left = n2\n",
    "N1.right = n3\n",
    "n3.left = n4\n",
    "n3.right = n5\n",
    "\n"
   ]
  },
  {
   "cell_type": "markdown",
   "id": "0f3f8fe6",
   "metadata": {},
   "source": [
    "        1\n",
    "       / \\\n",
    "      2   3\n",
    "         / \\\n",
    "        4   5\n"
   ]
  },
  {
   "cell_type": "markdown",
   "id": "c5efa03c",
   "metadata": {},
   "source": [
    "# 树的遍历类\n"
   ]
  },
  {
   "cell_type": "code",
   "execution_count": null,
   "id": "64069cb7",
   "metadata": {},
   "outputs": [],
   "source": [
    "# 树的遍历类\n",
    "# 树的遍历之层序遍历\n",
    "# 树的前序，中序，后序遍历\n",
    "from collections import deque\n",
    "class TreeOrder:\n",
    "    def __init__(self):\n",
    "        self.res = []\n",
    "    def Level_order(self , T_root: TreeNode): \n",
    "        queue: deque[TreeNode] = deque() # 初始化一个队列，放入节点\n",
    "        queue.append(T_root)\n",
    "        val_list =  [] #保存节点值\n",
    "        while queue:\n",
    "            T_node = queue.popleft()\n",
    "            val_list.append(T_node.val)\n",
    "            if(T_node.left):\n",
    "                queue.append(T_node.left)\n",
    "            if(T_node.right):\n",
    "                queue.append(T_node.right)\n",
    "        return val_list\n",
    "\n",
    "    def Pre_order(self ,T_root:TreeNode):\n",
    "        if T_root is None:\n",
    "            return\n",
    "        self.res.append(T_root.val)\n",
    "        self.Pre_order(T_root.left)\n",
    "        self.Pre_order(T_root.right)\n",
    "    \n",
    "    def In_order(self ,T_root:TreeNode):\n",
    "        if T_root is None:\n",
    "            return \n",
    "        self.In_order(T_root.left)\n",
    "        self.res.append(T_root.val)\n",
    "        self.In_order(T_root.right)\n",
    "    \n",
    "    def Post_order(self ,T_root:TreeNode):\n",
    "        if T_root is None:\n",
    "            return\n",
    "        self.Post_order(T_root.left)\n",
    "        self.Post_order(T_root.right)\n",
    "        self.res.append(T_root.val)\n"
   ]
  },
  {
   "cell_type": "code",
   "execution_count": null,
   "id": "7d11f930",
   "metadata": {},
   "outputs": [],
   "source": [
    "#再写一边层序遍历\n",
    "from collections import deque\n",
    "def level_ordre(T_root: TreeNode , val :int) -> TreeNode:\n",
    "    queue : deque[TreeNode] = deque()\n",
    "    queue.append(T_root)\n",
    "    val_list = []\n",
    "    while queue:\n",
    "        T_node = queue.popleft()\n",
    "        val_list.append(T_node.val)\n",
    "        if(T_node.left):\n",
    "            queue.append(T_node.left)\n",
    "        if(T_node.right):\n",
    "            queue.append(T_node.right)\n",
    "    return val_list"
   ]
  },
  {
   "cell_type": "markdown",
   "id": "2067f066",
   "metadata": {},
   "source": [
    "## leetcode 94"
   ]
  },
  {
   "cell_type": "code",
   "execution_count": null,
   "id": "20ab2752",
   "metadata": {},
   "outputs": [
    {
     "name": "stdout",
     "output_type": "stream",
     "text": [
      "中序遍历 [2, 1, 4, 3, 5] \n",
      "\n"
     ]
    }
   ],
   "source": [
    "############ leetcode94 #########二叉树的中序遍历\n",
    "treeorder = TreeOrder()\n",
    "\n",
    "treeorder.In_order(N1)\n",
    "\n",
    "print('中序遍历',treeorder.res,'\\n')\n",
    "\n",
    "\n"
   ]
  },
  {
   "cell_type": "markdown",
   "id": "a7e7e678",
   "metadata": {},
   "source": [
    "# 二叉搜索树"
   ]
  },
  {
   "cell_type": "code",
   "execution_count": 25,
   "id": "9a4718fd",
   "metadata": {},
   "outputs": [],
   "source": [
    "## 二叉搜索树类（搜索树的各种操作）\n",
    "class BiSearchTree:\n",
    "    def InsertNode(self,T_root: TreeNode,val:int)-> TreeNode:\n",
    "        if T_root is None:\n",
    "            return TreeNode(val)\n",
    "        if(val < T_root.val):\n",
    "            T_root.left = self.InsertNode(T_root.left,val)\n",
    "        elif(val > T_root.val):\n",
    "            T_root.right = self.InsertNode(T_root.right,val)\n",
    "        return T_root\n",
    "    \n",
    "    def Build_from_valList(self, valList: list[int] )-> TreeNode:\n",
    "        root = None\n",
    "        for val in valList:\n",
    "            root = self.InsertNode(root,val)\n",
    "        return root    \n",
    "\n",
    "\n"
   ]
  },
  {
   "cell_type": "code",
   "execution_count": null,
   "id": "4e2445f4",
   "metadata": {},
   "outputs": [
    {
     "name": "stdout",
     "output_type": "stream",
     "text": [
      "中序遍历结果（升序）:\n",
      "[2, 3, 4, 5, 6, 7, 8]\n"
     ]
    },
    {
     "ename": "",
     "evalue": "",
     "output_type": "error",
     "traceback": [
      "\u001b[1;31m在当前单元格或上一个单元格中执行代码时 Kernel 崩溃。\n",
      "\u001b[1;31m请查看单元格中的代码，以确定故障的可能原因。\n",
      "\u001b[1;31m单击<a href='https://aka.ms/vscodeJupyterKernelCrash'>此处</a>了解详细信息。\n",
      "\u001b[1;31m有关更多详细信息，请查看 Jupyter <a href='command:jupyter.viewOutput'>log</a>。"
     ]
    }
   ],
   "source": [
    "nums = [5, 3, 7, 2, 4, 6, 8]\n",
    "bst = BiSearchTree()\n",
    "root = bst.Build_from_valList(nums)\n",
    "\n",
    "print(\"中序遍历结果（升序）:\")\n",
    "treeorder = TreeOrder()\n",
    "treeorder.In_order(root)\n",
    "print(treeorder.res)"
   ]
  },
  {
   "cell_type": "markdown",
   "id": "ac651afa",
   "metadata": {},
   "source": [
    "## leetcode 98 验证搜索二叉树\n",
    "> 递归搜索，设置一个区间，利用二叉搜索树的性质，左子树小于根节点，右子树大于根节点。  \n",
    "> 也可以中序遍历，来判断是否是搜索二叉树，这是一个充分必要条件"
   ]
  },
  {
   "cell_type": "code",
   "execution_count": null,
   "id": "1e0ba663",
   "metadata": {},
   "outputs": [],
   "source": [
    "############ leetcode98 ########验证二叉搜索树###############\n",
    "#\n",
    "class Solution:\n",
    "    def isValidBST(self, root: TreeNode ) -> bool:\n",
    "        def helper(root: TreeNode, lower = float('-inf') , upper = float'inf' )) -> bool:\n",
    "            if not root:\n",
    "                return True\n",
    "            val = root.val \n",
    "            if (val >= upper or val <= lower):\n",
    "                return False\n",
    "            if  not helper(root.left ,lower,val):\n",
    "                return False\n",
    "            if  not helper(root.right ,val,upper):\n",
    "                return False\n",
    "            return True\n",
    "        return helper(root)\n",
    "\n",
    "        \n",
    "        \n",
    "\n",
    "\n",
    "        \n",
    "        "
   ]
  },
  {
   "cell_type": "markdown",
   "id": "12884b49",
   "metadata": {},
   "source": [
    "## Leetcode 99恢复二叉搜索树\n",
    "> 思路就是输出中序序列，然后找到两个错误的节点，然后交换这两个节点的值  \n",
    "> 一些关键点在代码中标注"
   ]
  },
  {
   "cell_type": "code",
   "execution_count": null,
   "id": "29c34118",
   "metadata": {},
   "outputs": [],
   "source": [
    "# Definition for a binary tree node.\n",
    "# class TreeNode:\n",
    "#     def __init__(self, val=0, left=None, right=None):\n",
    "#         self.val = val\n",
    "#         self.left = left\n",
    "#         self.right = right\n",
    "class Solution:\n",
    "    def __init__(self):\n",
    "        self.res = []\n",
    "        self.nodes = []\n",
    "\n",
    "    def recoverTree(self, root: TreeNode) -> None:\n",
    "        def inorder(node):\n",
    "            if not node:## 注意首先判断是不是空，也是返回条件！！！\n",
    "                return\n",
    "            inorder(node.left)\n",
    "            # 比较当前节点值和上一个节点值\n",
    "            if self.res and self.res[-1].val > node.val: ## 判断是否为空 和 比较大小（前一个值比当前值大）\n",
    "                self.nodes.append(self.res[-1])\n",
    "                self.nodes.append(node) ### 同时记录这两个，防止如果交换的这两个节点是相邻的会出现只记录一次的情况！！！！！！！！！！！！！\n",
    "                \n",
    "                \n",
    "            self.res.append(node)\n",
    "            inorder(node.right)\n",
    "\n",
    "        inorder(root)\n",
    "\n",
    "        # 去重，找到真正的两个被交换节点\n",
    "        first = self.nodes[0]\n",
    "        second = self.nodes[1]\n",
    "        first.val, second.val = second.val, first.val\n",
    "\n",
    "\n",
    "        \n",
    "            "
   ]
  },
  {
   "cell_type": "markdown",
   "id": "f0a30fb2",
   "metadata": {},
   "source": [
    "## leetcode 100 判断树相同\n",
    "> 注意虽然说如果前序遍历和中序遍历相同，那么树是确定的，但是记录的时候只记录值，不记录结构，导致了结构不同，还是不能这样判断。  \n",
    "> 依旧要采用递归结构比较的方式."
   ]
  },
  {
   "cell_type": "code",
   "execution_count": null,
   "id": "dc7eaa9f",
   "metadata": {},
   "outputs": [],
   "source": [
    "class Solution:\n",
    "    def isSameTree(self, p: TreeNode, q:TreeNode) -> bool:\n",
    "        if not p and not q: # 两个都是空节点 视为相同 直观上来说就是结构是相同的\n",
    "            return True\n",
    "        if not p or not q: #  一个为空 一个不为空 就是不同的\n",
    "            return False\n",
    "        if(p.val != q.val):\n",
    "            return False\n",
    "        boolLeft = self.isSameTree(p.left , q.left)\n",
    "        boolRight= self.isSameTree(p.right, q.right)\n",
    "        return  boolLeft and boolRight"
   ]
  },
  {
   "cell_type": "markdown",
   "id": "095f2145",
   "metadata": {},
   "source": [
    "## leetcode 101 判断轴对称\n",
    "> 傻瓜思路是反转后判断相同不相同  \n",
    "> 递归 同时设置两个指针同步进行  \n",
    "> 也可以用迭代（队列）来判断对称性   \n"
   ]
  },
  {
   "cell_type": "code",
   "execution_count": null,
   "id": "7fd3ac10",
   "metadata": {},
   "outputs": [],
   "source": [
    "\n",
    "class Solution:\n",
    "    def isSymmetric1(self, root: TreeNode) -> bool:\n",
    "        p = root.left\n",
    "        q = root.right\n",
    "        \n",
    "        def trans(root:TreeNode)  -> TreeNode:\n",
    "            if not root:\n",
    "                return\n",
    "            root.left ,root.right = root.right , root.left\n",
    "            trans(root.left)\n",
    "            trans(root.right)\n",
    "        \n",
    "        trans(p)\n",
    "        \n",
    "\n",
    "        def isSameTree(p: TreeNode, q:TreeNode) -> bool:\n",
    "            if not p and not q: # 两个都是空节点 视为相同 直观上来说就是结构是相同的\n",
    "                return True\n",
    "            if not p or not q: #  一个为空 一个不为空 就是不同的\n",
    "                return False\n",
    "            if(p.val != q.val):\n",
    "                return False\n",
    "            boolLeft = isSameTree(p.left , q.left)\n",
    "            boolRight= isSameTree(p.right, q.right)\n",
    "            return  boolLeft and boolRight\n",
    "        return isSameTree(p,q)\n",
    "    \n",
    "    def isSymmetric(self, root: TreeNode) -> bool:\n",
    "        L,R = root.left ,root.right\n",
    "        def check(L:TreeNode , R:TreeNode):\n",
    "            if  not L and not R:\n",
    "                return True\n",
    "            if not L or not R:\n",
    "                return False\n",
    "            if L.val != R.val: \n",
    "                return False\n",
    "            m = check(L.left,R.right)\n",
    "            n = check(L.right,R.left)\n",
    "            return  m and n   \n",
    "        return  check(L,R)  \n",
    "            \n",
    "            \n",
    "        \n",
    "\n",
    "        \n",
    "        "
   ]
  },
  {
   "cell_type": "markdown",
   "id": "6fc2f694",
   "metadata": {},
   "source": [
    "## leetcode 102 层序遍历\n",
    ">就是广度优先算法，用队列实现  \n",
    "> 下面的代码比通常的层序遍历又多了一层循环，目的是为了将每一层的节点都放在一个列表中，方便输出和观察"
   ]
  },
  {
   "cell_type": "code",
   "execution_count": null,
   "id": "1f9d3efd",
   "metadata": {},
   "outputs": [],
   "source": [
    "from collections import deque\n",
    "class Solution:\n",
    "    def levelOrder(self, root: TreeNode) :\n",
    "        from collections import deque\n",
    "        if not root:\n",
    "            return []\n",
    "        queue : deque(TreeNode) = deque()\n",
    "        queue.append(root)\n",
    "        ListT = []        \n",
    "        while queue:\n",
    "            res = []\n",
    "            for _ in range(len(queue)):\n",
    "                T_new = queue.popleft()\n",
    "                res.append(T_new.val)\n",
    "                \n",
    "                if T_new.left:\n",
    "                    queue.append(T_new.left)\n",
    "                if T_new.right:\n",
    "                    queue.append(T_new.right)\n",
    "            ListT.append(res)\n",
    "        return ListT"
   ]
  },
  {
   "cell_type": "markdown",
   "id": "b0d65a6d",
   "metadata": {},
   "source": [
    "## Leetcode 199 二叉树的右视图\n",
    ">比较简单，就是输出每一个层序遍历的每一层的最后一个元素，即val_list[][-1]"
   ]
  },
  {
   "cell_type": "code",
   "execution_count": null,
   "id": "acd75964",
   "metadata": {},
   "outputs": [],
   "source": [
    "class Solution:\n",
    "    def rightSideView(self, root: Optional[TreeNode]) -> List[int]:\n",
    "        from collections import deque\n",
    "        if not root:\n",
    "            return []\n",
    "        queue : deque(TreeNode) = deque()\n",
    "        queue.append(root)\n",
    "        val_list: List[List[int]] = []\n",
    "        while queue:\n",
    "            res = []\n",
    "            for i  in range(len(queue)):\n",
    "                T_new = queue.popleft()\n",
    "                res.append(T_new.val)\n",
    "                if T_new.left:\n",
    "                    queue.append(T_new.left)\n",
    "                if T_new.right:\n",
    "                    queue.append(T_new.right)\n",
    "            val_list.append(res)\n",
    "        result = []\n",
    "        for i in range(len(val_list)):\n",
    "            result.append(val_list[i][-1])\n",
    "        return result"
   ]
  },
  {
   "cell_type": "markdown",
   "id": "a446be6f",
   "metadata": {},
   "source": [
    "## leetcode 235二叉搜索树的最近公共祖先"
   ]
  },
  {
   "cell_type": "code",
   "execution_count": null,
   "id": "69e23618",
   "metadata": {},
   "outputs": [],
   "source": [
    "# Definition for a binary tree node.\n",
    "# class TreeNode:\n",
    "#     def __init__(self, x):\n",
    "#         self.val = x\n",
    "#         self.left = None\n",
    "#         self.right = None\n",
    "\n",
    "from typing import List\n",
    "\n",
    "class Solution:\n",
    "    def lowestCommonAncestor(self, root: 'TreeNode', p: 'TreeNode', q: 'TreeNode') -> 'TreeNode':\n",
    "        def find_path(root: TreeNode, target: int) -> List[TreeNode]:\n",
    "            path = []\n",
    "            curr = root\n",
    "            while curr and curr.val != target:\n",
    "                path.append(curr)\n",
    "                if target < curr.val:\n",
    "                    curr = curr.left\n",
    "                else:\n",
    "                    curr = curr.right\n",
    "            path.append(curr)  # 添加目标节点本身\n",
    "            return path\n",
    "\n",
    "        path_p = find_path(root, p.val)\n",
    "        path_q = find_path(root, q.val)\n",
    "\n",
    "        # 找最后一个相同的节点\n",
    "        ancestor = None\n",
    "        for u, v in zip(path_p, path_q):\n",
    "            if u == v:\n",
    "                ancestor = u\n",
    "            else:\n",
    "                break\n",
    "        return ancestor\n",
    "\n",
    "              "
   ]
  },
  {
   "cell_type": "markdown",
   "id": "79df8e44",
   "metadata": {},
   "source": [
    "## leetcode 236 二叉树的最近公共祖先\n",
    "### 递归后序遍历（postorder）：\n",
    "\n",
    "\n",
    "\n",
    ">若当前节点等于 p 或 q，直接返回当前节点  \n",
    "\n",
    ">递归求左子树、右子树的结果：  \n",
    "\n",
    ">如果左右子树都找到了（均非空），说明当前节点就是最近公共祖先  \n",
    "\n",
    ">如果只有一侧找到，返回那一侧的结果（把找到的节点一路向上“抬”）  "
   ]
  },
  {
   "cell_type": "code",
   "execution_count": null,
   "id": "4e39a833",
   "metadata": {},
   "outputs": [],
   "source": [
    "class Solution:\n",
    "    def lowestCommonAncestor(self, root: 'TreeNode', p: 'TreeNode', q: 'TreeNode') -> 'TreeNode':\n",
    "        if root is None or root == p or root == q:\n",
    "            return root\n",
    "        \n",
    "        left = self.lowestCommonAncestor(root.left, p, q)\n",
    "        right = self.lowestCommonAncestor(root.right, p, q)\n",
    "        \n",
    "        if left and right:\n",
    "            return root\n",
    "        return left if left else right"
   ]
  }
 ],
 "metadata": {
  "kernelspec": {
   "display_name": "llm_env",
   "language": "python",
   "name": "python3"
  },
  "language_info": {
   "codemirror_mode": {
    "name": "ipython",
    "version": 3
   },
   "file_extension": ".py",
   "mimetype": "text/x-python",
   "name": "python",
   "nbconvert_exporter": "python",
   "pygments_lexer": "ipython3",
   "version": "3.10.18"
  }
 },
 "nbformat": 4,
 "nbformat_minor": 5
}
