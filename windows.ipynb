{
 "cells": [
  {
   "cell_type": "markdown",
   "id": "cd5c0b46",
   "metadata": {},
   "source": [
    "## leetcode 209 长度最小子数组\n",
    "> 维护一个窗口，当窗口内的和大于等于target时，记录窗口的长度，并尝试缩小窗口"
   ]
  },
  {
   "cell_type": "code",
   "execution_count": null,
   "id": "9720252f",
   "metadata": {},
   "outputs": [],
   "source": [
    "def minSubArrayLen(self, target: int, nums: List[int]) -> int:\n",
    "    left  , right = 0\n",
    "    minlen = float('inf')\n",
    "    windows_sum = 0\n",
    "    while right < len(nums):\n",
    "        windows_sum += nums[right]\n",
    "        while windows_sum > target:\n",
    "            minlen = min(min_len,right-left+1)\n",
    "            windows_sum -= nums[left]\n",
    "            left += 1\n",
    "        right += 1\n",
    "    return min_len\n"
   ]
  },
  {
   "cell_type": "markdown",
   "id": "7d16311d",
   "metadata": {},
   "source": [
    "## leetcode 713 乘积小于k的子数组"
   ]
  },
  {
   "cell_type": "code",
   "execution_count": null,
   "id": "6bbf749c",
   "metadata": {},
   "outputs": [],
   "source": [
    "class Solution:\n",
    "    def numSubarrayProductLessThanK(self, nums: List[int], k: int) -> int:\n",
    "        if k <= 1:  # 特殊情况处理\n",
    "            return 0\n",
    "            \n",
    "        left = 0\n",
    "        window_product = 1\n",
    "        ans = 0\n",
    "        \n",
    "        for right in range(len(nums)):\n",
    "            window_product *= nums[right]\n",
    "            \n",
    "            \n",
    "            while window_product >= k:\n",
    "                window_product /= nums[left]\n",
    "                left += 1\n",
    "                \n",
    "            \n",
    "            \n",
    "            ans += right - left + 1 ## 关键是当这个序列乘积 刚好小于k的时候，他的子序列也是小于的，right-left+1 的意义就是计算这个序列所有满足条件的子序列\n",
    "        \n",
    "        return ans\n",
    "        "
   ]
  }
 ],
 "metadata": {
  "kernelspec": {
   "display_name": "llm_env",
   "language": "python",
   "name": "python3"
  },
  "language_info": {
   "name": "python",
   "version": "3.10.18"
  }
 },
 "nbformat": 4,
 "nbformat_minor": 5
}
