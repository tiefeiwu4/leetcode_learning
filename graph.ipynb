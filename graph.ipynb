{
 "cells": [
  {
   "cell_type": "markdown",
   "id": "f9c56406",
   "metadata": {},
   "source": [
    "## leetcode 130 被围绕的区域\n",
    "> 关键点在于把和边界相连的 0 和与这个0 相连的所有0 都标记出来 （使用的是在边界找到区域然后针对这个区域做深度优先）\n",
    "> 然后遍历整个二维数组，把标记过的0变成1，把没标记过的0变成X"
   ]
  },
  {
   "cell_type": "code",
   "execution_count": null,
   "id": "8b27ea36",
   "metadata": {},
   "outputs": [
    {
     "ename": "NameError",
     "evalue": "name 'List' is not defined",
     "output_type": "error",
     "traceback": [
      "\u001b[1;31m---------------------------------------------------------------------------\u001b[0m",
      "\u001b[1;31mNameError\u001b[0m                                 Traceback (most recent call last)",
      "Cell \u001b[1;32mIn[4], line 1\u001b[0m\n\u001b[1;32m----> 1\u001b[0m \u001b[38;5;28;01mclass\u001b[39;00m\u001b[38;5;250m \u001b[39m\u001b[38;5;21;01mSolution\u001b[39;00m:\n\u001b[0;32m      2\u001b[0m     \u001b[38;5;28;01mdef\u001b[39;00m\u001b[38;5;250m \u001b[39m\u001b[38;5;21msolve\u001b[39m(\u001b[38;5;28mself\u001b[39m, board: List[List[\u001b[38;5;28mstr\u001b[39m]]) \u001b[38;5;241m-\u001b[39m\u001b[38;5;241m>\u001b[39m \u001b[38;5;28;01mNone\u001b[39;00m:\n\u001b[0;32m      3\u001b[0m         \u001b[38;5;28;01mif\u001b[39;00m \u001b[38;5;129;01mnot\u001b[39;00m board:\n",
      "Cell \u001b[1;32mIn[4], line 2\u001b[0m, in \u001b[0;36mSolution\u001b[1;34m()\u001b[0m\n\u001b[0;32m      1\u001b[0m \u001b[38;5;28;01mclass\u001b[39;00m\u001b[38;5;250m \u001b[39m\u001b[38;5;21;01mSolution\u001b[39;00m:\n\u001b[1;32m----> 2\u001b[0m     \u001b[38;5;28;01mdef\u001b[39;00m\u001b[38;5;250m \u001b[39m\u001b[38;5;21msolve\u001b[39m(\u001b[38;5;28mself\u001b[39m, board: \u001b[43mList\u001b[49m[List[\u001b[38;5;28mstr\u001b[39m]]) \u001b[38;5;241m-\u001b[39m\u001b[38;5;241m>\u001b[39m \u001b[38;5;28;01mNone\u001b[39;00m:\n\u001b[0;32m      3\u001b[0m         \u001b[38;5;28;01mif\u001b[39;00m \u001b[38;5;129;01mnot\u001b[39;00m board:\n\u001b[0;32m      4\u001b[0m             \u001b[38;5;28;01mreturn\u001b[39;00m \n",
      "\u001b[1;31mNameError\u001b[0m: name 'List' is not defined"
     ]
    }
   ],
   "source": [
    "\n",
    "class Solution:\n",
    "    def solve(self, board: List[List[str]]) -> None:\n",
    "        if not board:\n",
    "            return \n",
    "        \n",
    "        m, n = len(board), len(board[0])\n",
    "        \n",
    "        def DFS(line: int, row: int) -> None:\n",
    "            if not 0 <= line < m or not 0 <= row < n or board[line][row] != 'O':\n",
    "                return\n",
    "            board[line][row] = 'A'  # 标记不被围绕的 'O'\n",
    "            DFS(line + 1, row)\n",
    "            DFS(line - 1, row)\n",
    "            DFS(line, row + 1)\n",
    "            DFS(line, row - 1)\n",
    "        \n",
    "        # 从边界出发，标记所有不会被围绕的 'O'\n",
    "        for i in range(m):\n",
    "            DFS(i, 0)\n",
    "            DFS(i, n - 1)\n",
    "        for i in range(n):\n",
    "            DFS(0, i)\n",
    "            DFS(m - 1, i)\n",
    "        \n",
    "        # 替换所有被围绕的 'O' 为 'X'，还原未被围绕的 'A' 为 'O'\n",
    "        for i in range(m):\n",
    "            for j in range(n):\n",
    "                if board[i][j] == 'A':\n",
    "                    board[i][j] = 'O'\n",
    "                elif board[i][j] == 'O':\n",
    "                    board[i][j] = 'X'\n"
   ]
  },
  {
   "cell_type": "markdown",
   "id": "195ef9db",
   "metadata": {},
   "source": [
    "## leetcode 200 岛屿数量\n",
    "> 遍历的到1 ， 然后利用深度优先算法，将和该1接壤的所有1都标记为0 ，然后计数即可"
   ]
  },
  {
   "cell_type": "code",
   "execution_count": null,
   "id": "8b2af27a",
   "metadata": {},
   "outputs": [],
   "source": [
    "class Solution:\n",
    "    def numIslands(self, grid: List[List[str]]) -> int:\n",
    "        m = len(grid)\n",
    "        n = len(grid[0])\n",
    "        num = 0 \n",
    "        def DFS(x,y):\n",
    "            if  x < 0 or x >= m or y < 0 or y>= n :\n",
    "                return \n",
    "        \n",
    "            if grid[x][y] == '0':\n",
    "                return \n",
    "            \n",
    "            if grid[x][y] == '1':\n",
    "                grid[x][y] = '0'\n",
    "            \n",
    "            DFS(x+1 ,y)\n",
    "            DFS(x-1 ,y)\n",
    "            DFS(x, y+1)\n",
    "            DFS(x, y-1)"
   ]
  },
  {
   "cell_type": "markdown",
   "id": "5afc768e",
   "metadata": {},
   "source": [
    "## leetcode 419 棋盘上的战舰\n",
    "> 思路可以和 leetcode 200一样   \n",
    "> 不同的点在于战舰只能是n*1 或者是n*1的形状，所以只需要判断当前格子是不是战舰的左上角即可  \n",
    "> 当然也可以遍历，然后判断右边或者下边是不是战舰，但是这样时间复杂度会高一些  \n",
    "> 即判断当前格子是不是1，并且左边和上边都不是1  "
   ]
  },
  {
   "cell_type": "markdown",
   "id": "67ef8133",
   "metadata": {},
   "source": []
  },
  {
   "cell_type": "code",
   "execution_count": null,
   "id": "afd86b33",
   "metadata": {},
   "outputs": [],
   "source": [
    "class Solution:\n",
    "    def countBattleships(self, board: List[List[str]]) -> int:\n",
    "        \n",
    "        m = len(board)\n",
    "        n = len(board[0])\n",
    "        num = 0 \n",
    "        def DFS(x,y):\n",
    "            if  x < 0 or x >= m or y < 0 or y>= n :\n",
    "                return \n",
    "        \n",
    "            if board[x][y] == '.':\n",
    "                return \n",
    "            \n",
    "            if board[x][y] == 'X':\n",
    "                board[x][y] = '.'\n",
    "            \n",
    "            DFS(x+1 ,y)s\n",
    "            DFS(x-1 ,y)\n",
    "            DFS(x, y+1)\n",
    "            DFS(x, y-1)\n",
    "\n",
    "        for i in range(m):\n",
    "            for k in range(n):\n",
    "                if board[i][k] == 'X':\n",
    "                    DFS(i,k)\n",
    "                    num += 1\n",
    "                else :\n",
    "                    continue\n",
    "        return num\n",
    "    def countBattleships(self, board: List[List[str]]) -> int:\n",
    "        ans = 0\n",
    "        m, n = len(board), len(board[0])\n",
    "        for i, row in enumerate(board):\n",
    "            for j, ch in enumerate(row):\n",
    "                if ch == 'X':\n",
    "                    row[j] = '.'\n",
    "                    for k in range(j + 1, n):\n",
    "                        if row[k] != 'X':\n",
    "                            break\n",
    "                        row[k] = '.'\n",
    "                    for k in range(i + 1, m):\n",
    "                        if board[k][j] != 'X':\n",
    "                            break\n",
    "                        board[k][j] = '.'\n",
    "                    ans += 1\n",
    "        return ans\n",
    "\n",
    "\n",
    "        "
   ]
  },
  {
   "cell_type": "markdown",
   "id": "84235933",
   "metadata": {},
   "source": [
    "## leetcode 463岛屿周长\n",
    "> 遍历计算岛屿数量和接壤数量，周长= 岛屿数量*4-接壤数量*2"
   ]
  },
  {
   "cell_type": "code",
   "execution_count": null,
   "id": "467b552a",
   "metadata": {},
   "outputs": [],
   "source": [
    "class Solution:\n",
    "    def islandPerimeter(self, grid: List[List[int]]) -> int:\n",
    "        n = len(grid)\n",
    "        m = len(grid[0])\n",
    "        length = 0\n",
    "        near = 0\n",
    "        num = 0\n",
    "\n",
    "    \n",
    "        for  x in range(n):\n",
    "            for y in range(m):\n",
    "                if grid[x][y] == 1:\n",
    "                    num +=1\n",
    "                    if x+1 < n and grid[x+1][y] == 1:\n",
    "                        near += 1\n",
    "                    if y+1 < m and grid[x][y+1] == 1:\n",
    "                        near += 1\n",
    "    \n",
    "        length = num *4 - near*2\n",
    "        return length"
   ]
  }
 ],
 "metadata": {
  "kernelspec": {
   "display_name": "llm_env",
   "language": "python",
   "name": "python3"
  },
  "language_info": {
   "codemirror_mode": {
    "name": "ipython",
    "version": 3
   },
   "file_extension": ".py",
   "mimetype": "text/x-python",
   "name": "python",
   "nbconvert_exporter": "python",
   "pygments_lexer": "ipython3",
   "version": "3.10.18"
  }
 },
 "nbformat": 4,
 "nbformat_minor": 5
}
