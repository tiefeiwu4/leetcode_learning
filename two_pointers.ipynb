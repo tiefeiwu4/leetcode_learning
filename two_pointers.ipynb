{
 "cells": [
  {
   "cell_type": "markdown",
   "id": "b19ecb82",
   "metadata": {},
   "source": [
    "## 双指针\n",
    "利用双指针可以有效地解决一些数组或链表中的问题，例如查找、排序、反转等。双指针通常是指两个指针在数组或链表中同时移动，以实现特定的目标。   \n",
    "尤其在有序数组，可以有效结局问题"
   ]
  },
  {
   "cell_type": "code",
   "execution_count": 2,
   "id": "9dbf757f",
   "metadata": {},
   "outputs": [],
   "source": [
    "# 两数之和 利用数组的有序性，设置两个相向的指针，当目标值小于加和的时候，移动左指针，让sum变大。同理，移动右指针让加和变小。\n",
    "class solution:\n",
    "    def twosum(self,list,target):\n",
    "        left ,right = 0, len(list)-1\n",
    "        while left < right :\n",
    "            sum = list[left]+ list[right]\n",
    "            if sum == target:\n",
    "                break\n",
    "            if sum < target:\n",
    "                left += 1\n",
    "            else :\n",
    "                right -= 1\n",
    "            \n",
    "\n",
    "        return [left+1,right+1]"
   ]
  },
  {
   "cell_type": "code",
   "execution_count": null,
   "id": "6b010289",
   "metadata": {},
   "outputs": [
    {
     "ename": "SyntaxError",
     "evalue": "incomplete input (1407223486.py, line 4)",
     "output_type": "error",
     "traceback": [
      "\u001b[1;36m  Cell \u001b[1;32mIn[4], line 4\u001b[1;36m\u001b[0m\n\u001b[1;33m    def threeSum(self, nums:List[int])-> List[List[int]]:\u001b[0m\n\u001b[1;37m                                                         ^\u001b[0m\n\u001b[1;31mSyntaxError\u001b[0m\u001b[1;31m:\u001b[0m incomplete input\n"
     ]
    }
   ],
   "source": [
    "## 三数之和 可以先 转化为有序数列，然后把target 设置为 0- num[i]\n",
    "## 需要注意的是有重复项的问题 \n",
    "## 1 首先 num[i]是不能重复的\n",
    "## 2 其次 当完成一次成功的搜索返回三元组的时候，继续搜索就要保证无论是左指针还是右指针对应的数字都不能与之前一项重复\n",
    "\n",
    "class Solution:\n",
    "    def threeSum(self, nums: List[int]) -> List[List[int]]:\n",
    "        nums.sort()\n",
    "        res = []\n",
    "        \n",
    "        for i in range(len(nums)):\n",
    "            # Skip duplicate elements for i\n",
    "            if i > 0 and nums[i] == nums[i - 1]:\n",
    "                continue\n",
    "                \n",
    "            target = -nums[i]\n",
    "            left, right = i + 1, len(nums) - 1\n",
    "            \n",
    "            while left < right:\n",
    "                total = nums[left] + nums[right]\n",
    "                \n",
    "                if total == target:\n",
    "                    res.append([nums[i], nums[left], nums[right]])\n",
    "                    # Skip duplicate elements for left and right\n",
    "                    while left < right and nums[left] == nums[left + 1]:#！！！\n",
    "                        left += 1\n",
    "                    while left < right and nums[right] == nums[right - 1]:#！！！\n",
    "                        right -= 1\n",
    "                    left += 1\n",
    "                    right -= 1\n",
    "                elif total < target:\n",
    "                    left += 1\n",
    "                else:\n",
    "                    right -= 1\n",
    "                    \n",
    "        return res\n",
    "\n",
    "        \n",
    "            \n"
   ]
  },
  {
   "cell_type": "code",
   "execution_count": null,
   "id": "1996ba79",
   "metadata": {},
   "outputs": [],
   "source": []
  }
 ],
 "metadata": {
  "kernelspec": {
   "display_name": "llm_env",
   "language": "python",
   "name": "python3"
  },
  "language_info": {
   "codemirror_mode": {
    "name": "ipython",
    "version": 3
   },
   "file_extension": ".py",
   "mimetype": "text/x-python",
   "name": "python",
   "nbconvert_exporter": "python",
   "pygments_lexer": "ipython3",
   "version": "3.10.18"
  }
 },
 "nbformat": 4,
 "nbformat_minor": 5
}
