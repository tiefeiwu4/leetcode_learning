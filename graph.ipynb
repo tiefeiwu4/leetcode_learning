{
 "cells": [
  {
   "cell_type": "markdown",
   "id": "f9c56406",
   "metadata": {},
   "source": [
    "## leetcode 130 被围绕的区域\n",
    "> 关键点在于把和边界相连的 0 和与这个0 相连的所有0 都标记出来 （使用的是在边界找到区域然后针对这个区域做深度优先）\n",
    "> 然后遍历整个二维数组，把标记过的0变成1，把没标记过的0变成X"
   ]
  },
  {
   "cell_type": "code",
   "execution_count": null,
   "id": "8b27ea36",
   "metadata": {},
   "outputs": [
    {
     "ename": "NameError",
     "evalue": "name 'List' is not defined",
     "output_type": "error",
     "traceback": [
      "\u001b[1;31m---------------------------------------------------------------------------\u001b[0m",
      "\u001b[1;31mNameError\u001b[0m                                 Traceback (most recent call last)",
      "Cell \u001b[1;32mIn[4], line 1\u001b[0m\n\u001b[1;32m----> 1\u001b[0m \u001b[38;5;28;01mclass\u001b[39;00m\u001b[38;5;250m \u001b[39m\u001b[38;5;21;01mSolution\u001b[39;00m:\n\u001b[0;32m      2\u001b[0m     \u001b[38;5;28;01mdef\u001b[39;00m\u001b[38;5;250m \u001b[39m\u001b[38;5;21msolve\u001b[39m(\u001b[38;5;28mself\u001b[39m, board: List[List[\u001b[38;5;28mstr\u001b[39m]]) \u001b[38;5;241m-\u001b[39m\u001b[38;5;241m>\u001b[39m \u001b[38;5;28;01mNone\u001b[39;00m:\n\u001b[0;32m      3\u001b[0m         \u001b[38;5;28;01mif\u001b[39;00m \u001b[38;5;129;01mnot\u001b[39;00m board:\n",
      "Cell \u001b[1;32mIn[4], line 2\u001b[0m, in \u001b[0;36mSolution\u001b[1;34m()\u001b[0m\n\u001b[0;32m      1\u001b[0m \u001b[38;5;28;01mclass\u001b[39;00m\u001b[38;5;250m \u001b[39m\u001b[38;5;21;01mSolution\u001b[39;00m:\n\u001b[1;32m----> 2\u001b[0m     \u001b[38;5;28;01mdef\u001b[39;00m\u001b[38;5;250m \u001b[39m\u001b[38;5;21msolve\u001b[39m(\u001b[38;5;28mself\u001b[39m, board: \u001b[43mList\u001b[49m[List[\u001b[38;5;28mstr\u001b[39m]]) \u001b[38;5;241m-\u001b[39m\u001b[38;5;241m>\u001b[39m \u001b[38;5;28;01mNone\u001b[39;00m:\n\u001b[0;32m      3\u001b[0m         \u001b[38;5;28;01mif\u001b[39;00m \u001b[38;5;129;01mnot\u001b[39;00m board:\n\u001b[0;32m      4\u001b[0m             \u001b[38;5;28;01mreturn\u001b[39;00m \n",
      "\u001b[1;31mNameError\u001b[0m: name 'List' is not defined"
     ]
    }
   ],
   "source": [
    "\n",
    "class Solution:\n",
    "    def solve(self, board: List[List[str]]) -> None:\n",
    "        if not board:\n",
    "            return \n",
    "        \n",
    "        m, n = len(board), len(board[0])\n",
    "        \n",
    "        def DFS(line: int, row: int) -> None:\n",
    "            if not 0 <= line < m or not 0 <= row < n or board[line][row] != 'O':\n",
    "                return\n",
    "            board[line][row] = 'A'  # 标记不被围绕的 'O'\n",
    "            DFS(line + 1, row)\n",
    "            DFS(line - 1, row)\n",
    "            DFS(line, row + 1)\n",
    "            DFS(line, row - 1)\n",
    "        \n",
    "        # 从边界出发，标记所有不会被围绕的 'O'\n",
    "        for i in range(m):\n",
    "            DFS(i, 0)\n",
    "            DFS(i, n - 1)\n",
    "        for i in range(n):\n",
    "            DFS(0, i)\n",
    "            DFS(m - 1, i)\n",
    "        \n",
    "        # 替换所有被围绕的 'O' 为 'X'，还原未被围绕的 'A' 为 'O'\n",
    "        for i in range(m):\n",
    "            for j in range(n):\n",
    "                if board[i][j] == 'A':\n",
    "                    board[i][j] = 'O'\n",
    "                elif board[i][j] == 'O':\n",
    "                    board[i][j] = 'X'\n"
   ]
  },
  {
   "cell_type": "markdown",
   "id": "296a2272",
   "metadata": {},
   "source": [
    "## Leetcode 199 二叉树的右视图\n",
    ">比较简单，就是输出每一个层序遍历的每一层的最后一个元素，即val_list[][-1]"
   ]
  },
  {
   "cell_type": "code",
   "execution_count": null,
   "id": "5e2a27f3",
   "metadata": {},
   "outputs": [],
   "source": [
    "class Solution:\n",
    "    def rightSideView(self, root: Optional[TreeNode]) -> List[int]:\n",
    "        from collections import deque\n",
    "        if not root:\n",
    "            return []\n",
    "        queue : deque(TreeNode) = deque()\n",
    "        queue.append(root)\n",
    "        val_list: List[List[int]] = []\n",
    "        while queue:\n",
    "            res = []\n",
    "            for i  in range(len(queue)):\n",
    "                T_new = queue.popleft()\n",
    "                res.append(T_new.val)\n",
    "                if T_new.left:\n",
    "                    queue.append(T_new.left)\n",
    "                if T_new.right:\n",
    "                    queue.append(T_new.right)\n",
    "            val_list.append(res)\n",
    "        result = []\n",
    "        for i in range(len(val_list)):\n",
    "            result.append(val_list[i][-1])\n",
    "        return result\n",
    "        "
   ]
  },
  {
   "cell_type": "markdown",
   "id": "195ef9db",
   "metadata": {},
   "source": [
    "## 岛屿数量"
   ]
  },
  {
   "cell_type": "code",
   "execution_count": null,
   "id": "7c83f8bf",
   "metadata": {},
   "outputs": [],
   "source": []
  },
  {
   "cell_type": "markdown",
   "id": "67ef8133",
   "metadata": {},
   "source": []
  },
  {
   "cell_type": "code",
   "execution_count": null,
   "id": "afd86b33",
   "metadata": {},
   "outputs": [],
   "source": [
    "# Definition for a binary tree node.\n",
    "# class TreeNode:\n",
    "#     def __init__(self, x):\n",
    "#         self.val = x\n",
    "#         self.left = None\n",
    "#         self.right = None\n",
    "\n",
    "from typing import List\n",
    "\n",
    "class Solution:\n",
    "    def lowestCommonAncestor(self, root: 'TreeNode', p: 'TreeNode', q: 'TreeNode') -> 'TreeNode':\n",
    "        def find_path(root: TreeNode, target: int) -> List[TreeNode]:\n",
    "            path = []\n",
    "            curr = root\n",
    "            while curr and curr.val != target:\n",
    "                path.append(curr)\n",
    "                if target < curr.val:\n",
    "                    curr = curr.left\n",
    "                else:\n",
    "                    curr = curr.right\n",
    "            path.append(curr)  # 添加目标节点本身\n",
    "            return path\n",
    "\n",
    "        path_p = find_path(root, p.val)\n",
    "        path_q = find_path(root, q.val)\n",
    "\n",
    "        # 找最后一个相同的节点\n",
    "        ancestor = None\n",
    "        for u, v in zip(path_p, path_q):\n",
    "            if u == v:\n",
    "                ancestor = u\n",
    "            else:\n",
    "                break\n",
    "        return ancestor\n",
    "\n",
    "              \n",
    "\n",
    "\n",
    "        "
   ]
  }
 ],
 "metadata": {
  "kernelspec": {
   "display_name": "llm_env",
   "language": "python",
   "name": "python3"
  },
  "language_info": {
   "codemirror_mode": {
    "name": "ipython",
    "version": 3
   },
   "file_extension": ".py",
   "mimetype": "text/x-python",
   "name": "python",
   "nbconvert_exporter": "python",
   "pygments_lexer": "ipython3",
   "version": "3.10.18"
  }
 },
 "nbformat": 4,
 "nbformat_minor": 5
}
